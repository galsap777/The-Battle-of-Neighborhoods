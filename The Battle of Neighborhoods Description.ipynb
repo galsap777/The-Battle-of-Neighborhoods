{
    "cells": [
        {
            "cell_type": "markdown",
            "metadata": {
                "collapsed": true
            },
            "source": "## Background\n\nToronto is the capital city of the Canadian province of Ontario. \nWith a recorded population of 2,731,571 in 2016,it is the most populous city in Canada and the fourth most populous city in North America. \nThe city is the anchor of the Golden Horseshoe, an urban agglomeration of 9,245,438 people (as of 2016) surrounding the western end of Lake Ontario,\nwhile the Greater Toronto Area (GTA) proper had a 2016 population of 6,417,516. Toronto is an international centre of business, finance, arts, and culture, and is recognized as one of the most multicultural and cosmopolitan cities in the world.\n\nToronto is a prominent centre for music,theatre, motion picture production, and television production, and is home to the headquarters of Canada's major national broadcast networks and media outlets. Its varied cultural institutions, which include numerous museums and galleries, festivals and public events, entertainment districts, national historic sites, and sports activities,attract over 43 million tourists each year. Toronto is known for its many skyscrapers and high-rise buildings, in particular the tallest free-standing structure in the Western Hemisphere, the CN Tower.\n\nThe city is home to the Toronto Stock Exchange, the headquarters of Canada's five largest banks, and the headquarters of many large Canadian and multinational corporations. Its economy is highly diversified with strengths in technology, design, financial services, life sciences, education, arts, fashion, aerospace, environmental innovation, food services, and tourism"
        },
        {
            "cell_type": "markdown",
            "metadata": {},
            "source": "## Business problem\n\nI would like to find the best location to open a pizza place in toronto.\n        I will use Foursquare location data, clustering and vanue information to anelyse and find the best location.\n        there are many pizza places but i owuld like to choose the best neighbourhood to have the best pizza place. "
        },
        {
            "cell_type": "markdown",
            "metadata": {},
            "source": "## Data im using\nwikipedia toronto postal codes,\nlocation map from geocoder package,\nPizza locations through foursquare."
        },
        {
            "cell_type": "code",
            "execution_count": null,
            "metadata": {},
            "outputs": [],
            "source": ""
        }
    ],
    "metadata": {
        "kernelspec": {
            "display_name": "Python 3.7",
            "language": "python",
            "name": "python3"
        },
        "language_info": {
            "codemirror_mode": {
                "name": "ipython",
                "version": 3
            },
            "file_extension": ".py",
            "mimetype": "text/x-python",
            "name": "python",
            "nbconvert_exporter": "python",
            "pygments_lexer": "ipython3",
            "version": "3.7.9"
        }
    },
    "nbformat": 4,
    "nbformat_minor": 1
}